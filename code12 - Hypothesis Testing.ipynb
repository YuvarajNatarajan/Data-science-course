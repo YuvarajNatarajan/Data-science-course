{
 "cells": [
  {
   "cell_type": "code",
   "execution_count": 1,
   "metadata": {},
   "outputs": [],
   "source": [
    "popmean = 5\n",
    "popstd = 0.1"
   ]
  },
  {
   "cell_type": "code",
   "execution_count": 2,
   "metadata": {},
   "outputs": [],
   "source": [
    "sample1 = [4.95,4.89,4.95,4.98,4.97,4.99,5.01,5.03]\n",
    "sample2 = [4.2,4.3,4.25,4.32,4.35,4.5,4.75,4.65,4.2]"
   ]
  },
  {
   "cell_type": "code",
   "execution_count": 6,
   "metadata": {},
   "outputs": [],
   "source": [
    "from statsmodels.stats.weightstats import ztest"
   ]
  },
  {
   "cell_type": "code",
   "execution_count": 8,
   "metadata": {},
   "outputs": [
    {
     "data": {
      "text/plain": [
       "(-1.8951671651596418, 0.058070258700683254)"
      ]
     },
     "execution_count": 8,
     "metadata": {},
     "output_type": "execute_result"
    }
   ],
   "source": [
    "ztest(sample1,value=popmean)"
   ]
  },
  {
   "cell_type": "code",
   "execution_count": 9,
   "metadata": {},
   "outputs": [
    {
     "data": {
      "text/plain": [
       "(-9.195485183966547, 3.7330607234653614e-20)"
      ]
     },
     "execution_count": 9,
     "metadata": {},
     "output_type": "execute_result"
    }
   ],
   "source": [
    "ztest(sample2,value=popmean)"
   ]
  },
  {
   "cell_type": "markdown",
   "metadata": {},
   "source": [
    "# Z test "
   ]
  },
  {
   "cell_type": "markdown",
   "metadata": {},
   "source": [
    "- used to compare a population mean with mean of a sample.\n",
    "\n",
    "- it can be used to check whether a sample mean is closer to populaion mean or not\n",
    "    \n",
    "    - Null Hypothesis, H0 = the mean of the sample is similar to the population mean\n",
    "    - Alternate Hypothesis, Ha = the mean of the sample is different compared to population mean\n",
    "    \n",
    "    \n",
    "based on business logic, consider the confidence interval, CI = 95% = 0.95\n",
    "\n",
    "Significance level, alpha = 1 - CI = 1 - 0.95 = 0.05\n",
    "\n",
    "    - if pvalue > alpha = accept the null hypothesis\n",
    "    - if pvalue < alpha = reject the null hypothesis\n",
    "    "
   ]
  },
  {
   "cell_type": "markdown",
   "metadata": {},
   "source": [
    "## Case 1\n",
    "\n",
    "#### CPVID 19 Drug effectiveness analysis\n",
    "\n",
    "    A drug company has developed a drug to help patients recover faster than usual. In genenral,\n",
    "    it is knowns, assumed and proven that it takes almost an average of 14 days for a patient to\n",
    "    recover from COVID 19.\n",
    "    \n",
    "    The company has developed the drug and they wish to test the effectiveness of the drug.\n",
    "    For that purpose, they injected the drug to randomly picked 15 patients on day 1 of their covid result considering it was day 1 of infection.\n",
    "    \n",
    "    They noted down the data of number of days these patients took to recover, the data is as following - \n",
    "    \n",
    "    recovery_days = [8,9,10,8,7,11,12,11,9,8,7,12,11,12,8,9]\n",
    "    \n",
    "    Apply statistical approach to prove whether the drug has been effective or not.\n",
    "    \n",
    "## Solution"
   ]
  },
  {
   "cell_type": "code",
   "execution_count": 1,
   "metadata": {},
   "outputs": [],
   "source": [
    "# we need to compare the sample mean with the population mean\n",
    "popmean = 14\n",
    "recovery_days = [8,9,10,8,7,11,12,11,9,8,7,12,11,12,8,9]\n",
    "# if the popmean turn out to be similar to sample, we will say the drug has not been effective.\n",
    "# if the popmean turns out to be different than sample mean, we will say the drug has been effective."
   ]
  },
  {
   "cell_type": "markdown",
   "metadata": {},
   "source": [
    "#### Z test\n",
    "    Null Hypothesis, H0 = the mean of the sample is similar to the population mean\n",
    "    Alternate Hypothesis, Ha = the mean of the sample is different compared to population mean\n",
    "    \n",
    "    \n",
    "Significance level, alpha = 1 - CI = 1 - 0.95 = 0.05\n",
    "\n",
    "- if pvalue > alpha = accept the null hypothesis\n",
    "- if pvalue < alpha = reject the null hypothesis"
   ]
  },
  {
   "cell_type": "code",
   "execution_count": 3,
   "metadata": {
    "collapsed": true
   },
   "outputs": [
    {
     "name": "stdout",
     "output_type": "stream",
     "text": [
      "8.107671698366979e-24\n"
     ]
    }
   ],
   "source": [
    "from statsmodels.stats.weightstats import ztest\n",
    "zscore,pvalue = ztest(recovery_days,value=popmean)\n",
    "print(pvalue)"
   ]
  },
  {
   "cell_type": "markdown",
   "metadata": {},
   "source": [
    "#### Answer - \n",
    "As pvalue < alpha, we successfully reject the null hypothesis, thus we conclude that\n",
    "popmean is different than sample mean,\n",
    "That means, we have enough statistical evidence to say that the drug has been effective."
   ]
  },
  {
   "cell_type": "markdown",
   "metadata": {},
   "source": [
    "###################################"
   ]
  },
  {
   "cell_type": "markdown",
   "metadata": {},
   "source": [
    "## Ecommerce Marketing campaign analysis\n",
    "\n",
    "    the company ABC sells variety of products on the ecommerce portal, from last one year, it has been observed that the sales of furniture has been very lesser. In last one year, on an average\n",
    "    there has been sale of USD 2000 every month for furniture products.\n",
    "    \n",
    "    \n",
    "    For the comping festival, christmas to new year, they have designed a marketing campaign of \n",
    "    cashback offer of 10% cashback during the 10 days.\n",
    "    \n",
    "    After the cashback period is over, they have data of sales on each day - \n",
    "    \n",
    "    sales = [2100,2250,2350,2500,2240,2080,2100,2150,2350,2200]\n",
    "    \n",
    "    The company wants to analyse whether the cashback offer has helped in improving the sales or not.\n",
    "    \n",
    "## Answer\n",
    "    "
   ]
  },
  {
   "cell_type": "code",
   "execution_count": 4,
   "metadata": {},
   "outputs": [],
   "source": [
    "popmean = 2000\n",
    "sales = [2100,2250,2350,2500,2240,2080,2100,2150,2350,2200]"
   ]
  },
  {
   "cell_type": "markdown",
   "metadata": {},
   "source": [
    "#### Z test\n",
    "    Null Hypothesis, H0 = the mean of the sample is similar to the population mean\n",
    "    Alternate Hypothesis, Ha = the mean of the sample is different compared to population mean\n",
    "    \n",
    "    \n",
    "Significance level, alpha = 1 - CI = 1 - 0.98 = 0.02\n",
    "\n",
    "- if pvalue > alpha = accept the null hypothesis\n",
    "- if pvalue < alpha = reject the null hypothesis"
   ]
  },
  {
   "cell_type": "code",
   "execution_count": 5,
   "metadata": {},
   "outputs": [
    {
     "name": "stdout",
     "output_type": "stream",
     "text": [
      "5.405916964210441 6.447766439495806e-08\n"
     ]
    }
   ],
   "source": [
    "from statsmodels.stats.weightstats import ztest\n",
    "zscore,pvalue = ztest(sales,value=popmean)\n",
    "print(zscore,pvalue)"
   ]
  },
  {
   "cell_type": "markdown",
   "metadata": {},
   "source": [
    "As pvalue is lower than alpha, we say that we have enough evidence to reject the null hypothesis\n",
    "and thus we say that the popmean is different from sample mean.\n",
    "As zscore is positive, we say that sample mean in much higher than popmean, thus we can say that\n",
    "the cashback offer has been effective in imporving sales."
   ]
  },
  {
   "cell_type": "code",
   "execution_count": 6,
   "metadata": {},
   "outputs": [
    {
     "name": "stdout",
     "output_type": "stream",
     "text": [
      "0.4869585673580688 0.6262876930042169\n"
     ]
    }
   ],
   "source": [
    "\n",
    "## case 2\n",
    "sales = [1980,2020,1990,2021,1970,1975,1985,2080,2050,1985]\n",
    "zscore,pvalue = ztest(sales,value=popmean)\n",
    "print(zscore,pvalue)"
   ]
  },
  {
   "cell_type": "code",
   "execution_count": null,
   "metadata": {},
   "outputs": [],
   "source": []
  }
 ],
 "metadata": {
  "kernelspec": {
   "display_name": "Python 3",
   "language": "python",
   "name": "python3"
  },
  "language_info": {
   "codemirror_mode": {
    "name": "ipython",
    "version": 3
   },
   "file_extension": ".py",
   "mimetype": "text/x-python",
   "name": "python",
   "nbconvert_exporter": "python",
   "pygments_lexer": "ipython3",
   "version": "3.7.4"
  },
  "latex_envs": {
   "LaTeX_envs_menu_present": true,
   "autoclose": false,
   "autocomplete": true,
   "bibliofile": "biblio.bib",
   "cite_by": "apalike",
   "current_citInitial": 1,
   "eqLabelWithNumbers": true,
   "eqNumInitial": 1,
   "hotkeys": {
    "equation": "Ctrl-E",
    "itemize": "Ctrl-I"
   },
   "labels_anchors": false,
   "latex_user_defs": false,
   "report_style_numbering": false,
   "user_envs_cfg": false
  }
 },
 "nbformat": 4,
 "nbformat_minor": 2
}
